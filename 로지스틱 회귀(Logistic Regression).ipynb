{
 "cells": [
  {
   "cell_type": "code",
   "execution_count": 92,
   "metadata": {
    "scrolled": true
   },
   "outputs": [
    {
     "data": {
      "text/html": [
       "<div>\n",
       "<style scoped>\n",
       "    .dataframe tbody tr th:only-of-type {\n",
       "        vertical-align: middle;\n",
       "    }\n",
       "\n",
       "    .dataframe tbody tr th {\n",
       "        vertical-align: top;\n",
       "    }\n",
       "\n",
       "    .dataframe thead th {\n",
       "        text-align: right;\n",
       "    }\n",
       "</style>\n",
       "<table border=\"1\" class=\"dataframe\">\n",
       "  <thead>\n",
       "    <tr style=\"text-align: right;\">\n",
       "      <th></th>\n",
       "      <th>Species</th>\n",
       "      <th>Weight</th>\n",
       "      <th>Length</th>\n",
       "      <th>Diagonal</th>\n",
       "      <th>Height</th>\n",
       "      <th>Width</th>\n",
       "    </tr>\n",
       "  </thead>\n",
       "  <tbody>\n",
       "    <tr>\n",
       "      <th>0</th>\n",
       "      <td>Bream</td>\n",
       "      <td>242.0</td>\n",
       "      <td>25.4</td>\n",
       "      <td>30.0</td>\n",
       "      <td>11.5200</td>\n",
       "      <td>4.0200</td>\n",
       "    </tr>\n",
       "    <tr>\n",
       "      <th>1</th>\n",
       "      <td>Bream</td>\n",
       "      <td>290.0</td>\n",
       "      <td>26.3</td>\n",
       "      <td>31.2</td>\n",
       "      <td>12.4800</td>\n",
       "      <td>4.3056</td>\n",
       "    </tr>\n",
       "    <tr>\n",
       "      <th>2</th>\n",
       "      <td>Bream</td>\n",
       "      <td>340.0</td>\n",
       "      <td>26.5</td>\n",
       "      <td>31.1</td>\n",
       "      <td>12.3778</td>\n",
       "      <td>4.6961</td>\n",
       "    </tr>\n",
       "    <tr>\n",
       "      <th>3</th>\n",
       "      <td>Bream</td>\n",
       "      <td>363.0</td>\n",
       "      <td>29.0</td>\n",
       "      <td>33.5</td>\n",
       "      <td>12.7300</td>\n",
       "      <td>4.4555</td>\n",
       "    </tr>\n",
       "    <tr>\n",
       "      <th>4</th>\n",
       "      <td>Bream</td>\n",
       "      <td>430.0</td>\n",
       "      <td>29.0</td>\n",
       "      <td>34.0</td>\n",
       "      <td>12.4440</td>\n",
       "      <td>5.1340</td>\n",
       "    </tr>\n",
       "  </tbody>\n",
       "</table>\n",
       "</div>"
      ],
      "text/plain": [
       "  Species  Weight  Length  Diagonal   Height   Width\n",
       "0   Bream   242.0    25.4      30.0  11.5200  4.0200\n",
       "1   Bream   290.0    26.3      31.2  12.4800  4.3056\n",
       "2   Bream   340.0    26.5      31.1  12.3778  4.6961\n",
       "3   Bream   363.0    29.0      33.5  12.7300  4.4555\n",
       "4   Bream   430.0    29.0      34.0  12.4440  5.1340"
      ]
     },
     "execution_count": 92,
     "metadata": {},
     "output_type": "execute_result"
    }
   ],
   "source": [
    "import pandas as pd\n",
    "fish = pd.read_csv('http://bit.ly/fish_csv')\n",
    "fish.head()"
   ]
  },
  {
   "cell_type": "markdown",
   "metadata": {},
   "source": [
    "## k-neighbor로 확률 구하기."
   ]
  },
  {
   "cell_type": "code",
   "execution_count": 93,
   "metadata": {},
   "outputs": [
    {
     "name": "stdout",
     "output_type": "stream",
     "text": [
      "['Bream' 'Roach' 'Whitefish' 'Parkki' 'Perch' 'Pike' 'Smelt']\n"
     ]
    }
   ],
   "source": [
    "#Species의 unique값 추출하기.\n",
    "print(pd.unique(fish['Species']))"
   ]
  },
  {
   "cell_type": "code",
   "execution_count": 94,
   "metadata": {},
   "outputs": [
    {
     "name": "stdout",
     "output_type": "stream",
     "text": [
      "0.8907563025210085\n",
      "0.825\n"
     ]
    }
   ],
   "source": [
    "from sklearn.neighbors import KNeighborsClassifier\n",
    "kn = KNeighborsClassifier(n_neighbors=3)\n",
    "kn.fit(train_scaled,train_target)\n",
    "print(kn.score(train_scaled, train_target))\n",
    "print(kn.score(test_scaled, test_target))"
   ]
  },
  {
   "cell_type": "code",
   "execution_count": 95,
   "metadata": {},
   "outputs": [
    {
     "name": "stdout",
     "output_type": "stream",
     "text": [
      "[[0.     0.     1.     0.     0.     0.     0.    ]\n",
      " [0.     0.     1.     0.     0.     0.     0.    ]\n",
      " [0.     0.     0.3333 0.6667 0.     0.     0.    ]\n",
      " [1.     0.     0.     0.     0.     0.     0.    ]\n",
      " [0.     0.     0.6667 0.     0.     0.     0.3333]]\n"
     ]
    }
   ],
   "source": [
    "import numpy as np\n",
    "proba = kn.predict_proba(test_scaled[:5]) #predict_proba() : 클래스별 확률값을 반환한다.\n",
    "print(np.round(proba, decimals=4))         #round() : 소수점 반올림 할때 사용한다. decimals 매개변수로 소수점아래 자릿수를 지정한다."
   ]
  },
  {
   "cell_type": "markdown",
   "metadata": {},
   "source": [
    "# 로지스틱회귀\n",
    "### 시그모이드함수(Sigmoid function)"
   ]
  },
  {
   "cell_type": "code",
   "execution_count": 91,
   "metadata": {
    "scrolled": true
   },
   "outputs": [
    {
     "data": {
      "image/png": "[encoded data removed]",
      "text/plain": [
       "<Figure size 432x288 with 1 Axes>"
      ]
     },
     "metadata": {
      "needs_background": "light"
     },
     "output_type": "display_data"
    }
   ],
   "source": [
    "#시그모이드함수 그리기.\n",
    "import numpy as np\n",
    "import matplotlib.pyplot as plt\n",
    "z = np.arange(-10, 10, 0.1)\n",
    "x = 1 / (1 + np.exp(-z))\n",
    "\n",
    "plt.plot(z, x)\n",
    "plt.show()"
   ]
  },
  {
   "cell_type": "markdown",
   "metadata": {},
   "source": [
    "### 로지스틱회귀 모델 사용"
   ]
  },
  {
   "cell_type": "markdown",
   "metadata": {},
   "source": [
    "**이진분류 수행**"
   ]
  },
  {
   "cell_type": "code",
   "execution_count": 29,
   "metadata": {},
   "outputs": [],
   "source": [
    "#도미와 빙어 데이터만 사용하기.\n",
    "#char_arr = np.array(['A', 'B', 'C', 'D', 'E'])\n",
    "#print(char_arr[[True, False, True, False, False]])   ##불리언 인덱싱 사용하기\n",
    "bs_indexes = (train_target == 'Bream') | (train_target == 'Smelt')\n",
    "train_bs = train_scaled[bs_indexes]\n",
    "target_bs = train_target[bs_indexes]"
   ]
  },
  {
   "cell_type": "code",
   "execution_count": 31,
   "metadata": {},
   "outputs": [
    {
     "data": {
      "text/plain": [
       "LogisticRegression()"
      ]
     },
     "execution_count": 31,
     "metadata": {},
     "output_type": "execute_result"
    }
   ],
   "source": [
    "from sklearn.linear_model import LogisticRegression #로지스틱 회귀 모델\n",
    "lr = LogisticRegression()\n",
    "lr.fit(train_bs, target_bs)"
   ]
  },
  {
   "cell_type": "code",
   "execution_count": 33,
   "metadata": {},
   "outputs": [
    {
     "name": "stdout",
     "output_type": "stream",
     "text": [
      "['Bream' 'Bream' 'Bream' 'Bream' 'Bream']\n"
     ]
    }
   ],
   "source": [
    "print(lr.predict(train_bs[:5]))"
   ]
  },
  {
   "cell_type": "code",
   "execution_count": 48,
   "metadata": {},
   "outputs": [
    {
     "name": "stdout",
     "output_type": "stream",
     "text": [
      "[[0.99784284 0.00215716]\n",
      " [0.95185639 0.04814361]\n",
      " [0.9862987  0.0137013 ]\n",
      " [0.99417753 0.00582247]\n",
      " [0.96398519 0.03601481]]\n"
     ]
    }
   ],
   "source": [
    "print(lr.predict_proba(train_bs[:5])) #predict_proba 메서드를 사용해 확률 보기. 양성클래스와 음성클래스의 확률을 반환."
   ]
  },
  {
   "cell_type": "code",
   "execution_count": 37,
   "metadata": {},
   "outputs": [
    {
     "name": "stdout",
     "output_type": "stream",
     "text": [
      "['Bream' 'Smelt']\n"
     ]
    }
   ],
   "source": [
    "print(lr.classes_) #어느것이 음성클래스인지 양성클래스인지 확인하기. 첫번째가 음성 두번째가 양성클래스"
   ]
  },
  {
   "cell_type": "code",
   "execution_count": 46,
   "metadata": {},
   "outputs": [
    {
     "name": "stdout",
     "output_type": "stream",
     "text": [
      "[[-0.43336757 -0.62142102 -0.70604772 -0.98380679 -0.76327199]] [-2.18852429]\n",
      "\n",
      "[-6.13680177 -2.9842257  -4.27646821 -5.14019182 -3.2871458 ]\n"
     ]
    }
   ],
   "source": [
    "print(lr.coef_, lr.intercept_) #로지스틱회귀의 선형방정식 계수확인하기.\n",
    "print(\"\")\n",
    "print(lr.decision_function(train_bs[:5])) #선형방정식 값 확인하기. 양성클래스에 대한 값을 반환한다."
   ]
  },
  {
   "cell_type": "code",
   "execution_count": 47,
   "metadata": {},
   "outputs": [
    {
     "name": "stdout",
     "output_type": "stream",
     "text": [
      "[0.00215716 0.04814361 0.0137013  0.00582247 0.03601481]\n"
     ]
    }
   ],
   "source": [
    "#선형방정식 값을 시그모이드 함수에 대입하기.\n",
    "from scipy.special import expit\n",
    "print(expit(lr.decision_function(train_bs[:5]))) "
   ]
  },
  {
   "cell_type": "markdown",
   "metadata": {},
   "source": [
    "   \n",
    "**다중분류 수행**"
   ]
  },
  {
   "cell_type": "code",
   "execution_count": 59,
   "metadata": {},
   "outputs": [],
   "source": [
    "lr = LogisticRegression(C=40, max_iter=1000) #C는 규제를 제어하는 매개변수로, C가 작을수록 규제가 커진다. \n",
    "                                            #max_iter는 반복횟수를 지정하며 기본값은 100이다."
   ]
  },
  {
   "cell_type": "code",
   "execution_count": 60,
   "metadata": {},
   "outputs": [
    {
     "name": "stdout",
     "output_type": "stream",
     "text": [
      "0.9495798319327731\n",
      "0.95\n"
     ]
    }
   ],
   "source": [
    "lr.fit(train_scaled, train_target)\n",
    "print(lr.score(train_scaled, train_target))\n",
    "print(lr.score(test_scaled, test_target))"
   ]
  },
  {
   "cell_type": "code",
   "execution_count": 62,
   "metadata": {},
   "outputs": [
    {
     "name": "stdout",
     "output_type": "stream",
     "text": [
      "['Roach' 'Perch' 'Pike' 'Bream' 'Perch']\n"
     ]
    }
   ],
   "source": [
    "#처음 5개샘플 예측.\n",
    "print(lr.predict(test_scaled[:5]))"
   ]
  },
  {
   "cell_type": "code",
   "execution_count": 66,
   "metadata": {},
   "outputs": [
    {
     "name": "stdout",
     "output_type": "stream",
     "text": [
      "[[0.    0.013 0.286 0.001 0.67  0.014 0.018]\n",
      " [0.011 0.    0.647 0.    0.    0.    0.342]\n",
      " [0.    0.    0.007 0.993 0.    0.    0.   ]\n",
      " [0.982 0.012 0.    0.    0.    0.    0.006]\n",
      " [0.    0.    0.934 0.    0.    0.    0.066]]\n"
     ]
    }
   ],
   "source": [
    "#5개 샘플 확률 출력.\n",
    "proba = lr.predict_proba(test_scaled[:5])\n",
    "print(np.round(proba, decimals=3)) #소수점3번째자리까지 출력."
   ]
  },
  {
   "cell_type": "code",
   "execution_count": 96,
   "metadata": {},
   "outputs": [
    {
     "name": "stdout",
     "output_type": "stream",
     "text": [
      "['Bream' 'Parkki' 'Perch' 'Pike' 'Roach' 'Smelt' 'Whitefish']\n"
     ]
    }
   ],
   "source": [
    "print(lr.classes_) #클래스 확인하기."
   ]
  },
  {
   "cell_type": "code",
   "execution_count": 97,
   "metadata": {},
   "outputs": [
    {
     "name": "stdout",
     "output_type": "stream",
     "text": [
      "(7, 5) (7,)\n"
     ]
    }
   ],
   "source": [
    "#선형방정식 계수 확인하기.\n",
    "print(lr.coef_.shape, lr.intercept_.shape)\n",
    "#클래스마다 Z값을 한개씩 계산해야 하므로 7개의 행이나오고, 특성이 5개 이므로 5개의 배열이 나온다. "
   ]
  },
  {
   "cell_type": "code",
   "execution_count": 98,
   "metadata": {},
   "outputs": [
    {
     "name": "stdout",
     "output_type": "stream",
     "text": [
      "[[ -6.6    0.39   3.49  -2.78   4.35   0.45   0.7 ]\n",
      " [  5.58  -2.86   9.7    1.31  -0.42 -22.39   9.07]\n",
      " [ -0.7  -16.35  11.    15.97  -5.77  -7.71   3.56]\n",
      " [ 11.2    6.78  -5.83  -3.07   2.03 -17.22   6.11]\n",
      " [  1.94  -3.89  10.16   1.27   0.61 -17.59   7.5 ]]\n"
     ]
    }
   ],
   "source": [
    "#각 샘플 클래스의 z값 계수 구하기\n",
    "decision = lr.decision_function(test_scaled[:5])\n",
    "print(np.round(decision, decimals=2))"
   ]
  },
  {
   "cell_type": "code",
   "execution_count": 81,
   "metadata": {},
   "outputs": [
    {
     "name": "stdout",
     "output_type": "stream",
     "text": [
      "[[0.    0.013 0.286 0.001 0.67  0.014 0.018]\n",
      " [0.011 0.    0.647 0.    0.    0.    0.342]\n",
      " [0.    0.    0.007 0.993 0.    0.    0.   ]\n",
      " [0.982 0.012 0.    0.    0.    0.    0.006]\n",
      " [0.    0.    0.934 0.    0.    0.    0.066]]\n"
     ]
    }
   ],
   "source": [
    "#z값으로 softmax함수 적용하기.\n",
    "from scipy.special import softmax\n",
    "proba  = softmax(decision, axis=1)   #axis 매개변수는 softmax를 계산할 축을 지정한다. \n",
    "                                    #axis를 1로 지정하면 각 행마다 softmax를 계산하고, 지정하지 않으면 배열전체에대한 softmax를 계산한다.\n",
    "print(np.round(proba, decimals=3))"
   ]
  }
 ],
 "metadata": {
  "kernelspec": {
   "display_name": "Python 3",
   "language": "python",
   "name": "python3"
  },
  "language_info": {
   "codemirror_mode": {
    "name": "ipython",
    "version": 3
   },
   "file_extension": ".py",
   "mimetype": "text/x-python",
   "name": "python",
   "nbconvert_exporter": "python",
   "pygments_lexer": "ipython3",
   "version": "3.8.5"
  }
 },
 "nbformat": 4,
 "nbformat_minor": 4
}
