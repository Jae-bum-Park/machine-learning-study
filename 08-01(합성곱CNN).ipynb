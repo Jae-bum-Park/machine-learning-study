{
 "cells": [
  {
   "cell_type": "markdown",
   "metadata": {},
   "source": [
    "# 합성곱\n",
    "\n",
    "### Conv2D클래스"
   ]
  },
  {
   "cell_type": "code",
   "execution_count": 2,
   "metadata": {},
   "outputs": [
    {
     "data": {
      "text/plain": [
       "<tensorflow.python.keras.layers.convolutional.Conv2D at 0x28225561730>"
      ]
     },
     "execution_count": 2,
     "metadata": {},
     "output_type": "execute_result"
    }
   ],
   "source": [
    "#합성곱은 Conv2D 클래스로 제공한다.\n",
    "#첫 매개변수는 필터의 수를 지정한다.\n",
    "#필터의 개수와 커널의 크기는 반드시 지정해 주어야 한다.\n",
    "from tensorflow import keras\n",
    "keras.layers.Conv2D(10, kernel_size=(3,3), activation='relu')"
   ]
  },
  {
   "cell_type": "markdown",
   "metadata": {},
   "source": [
    "### 패딩(padding)\n",
    "- valid padding : 순수한 입력 배열에 합성곱을 하여 feature map을 만드는 방법.\n",
    "- same padding : 입력 배열 주위를 가상의 원소로 채워 합성곱을 하여 feature map을 만드는 방법. \n",
    "- same padding을 하는 이유 : 모서리에 있는 중요한 정보가 feature map으로 잘 전달되지 않고, 가운데 픽셀정보만 두드러지기 때문에."
   ]
  },
  {
   "cell_type": "code",
   "execution_count": 3,
   "metadata": {},
   "outputs": [
    {
     "data": {
      "text/plain": [
       "<tensorflow.python.keras.layers.convolutional.Conv2D at 0x2822e759280>"
      ]
     },
     "execution_count": 3,
     "metadata": {},
     "output_type": "execute_result"
    }
   ],
   "source": [
    "#padding 매개변수의 기본값은 valid이다.\n",
    "#여기서는 same padding을 사용한다.\n",
    "keras.layers.Conv2D(10, kernel_size=(3,3), activation='relu', padding='same')"
   ]
  },
  {
   "cell_type": "markdown",
   "metadata": {},
   "source": [
    "### 스트라이드(Stride)\n",
    "- 합성곱 연산의 커널 이동의 크기를 말한다.\n",
    "- 기본값은 1이다.\n",
    "- 가로 세로 방향으로 이동크기를 다르게 지정하는 경우는 없고, 거의 대부분 기본값을 사용한다."
   ]
  },
  {
   "cell_type": "code",
   "execution_count": 4,
   "metadata": {},
   "outputs": [
    {
     "data": {
      "text/plain": [
       "<tensorflow.python.keras.layers.convolutional.Conv2D at 0x2822e759910>"
      ]
     },
     "execution_count": 4,
     "metadata": {},
     "output_type": "execute_result"
    }
   ],
   "source": [
    "#스트라이드.\n",
    "keras.layers.Conv2D(10, kernel_size=(3,3), activation='relu', padding='same', strides=1)"
   ]
  },
  {
   "cell_type": "markdown",
   "metadata": {},
   "source": [
    "### 풀링(Pooling)\n",
    "- 합성곱 층에서 만든 feature map의 가로세로 크기를 줄이는 역할을 수행한다.\n",
    "- feature map의 개수는 절대 변하지 않는다.\n",
    "- Pooling은 가중치가 없다.\n",
    "- Pooling은 겹치지 않고 이동한다.(풀링크기 = stride)\n",
    "- MaxPooling : 각 영역에서 가장 큰 값을 고른다.\n",
    "- AveragePooling : 각 영역의 평균 값을 구한다.\n",
    "- Pooling하는 이유 : 패딩에서 stride 수를 늘려 크기를 줄이는 것보다 Pooling하는 것이 성능이 좋아서."
   ]
  },
  {
   "cell_type": "code",
   "execution_count": 7,
   "metadata": {},
   "outputs": [
    {
     "data": {
      "text/plain": [
       "<tensorflow.python.keras.layers.pooling.MaxPooling2D at 0x2822e759f10>"
      ]
     },
     "execution_count": 7,
     "metadata": {},
     "output_type": "execute_result"
    }
   ],
   "source": [
    "#MaxPooling\n",
    "#첫 번째 매개변수는 풀링의 크기를 지정한다.\n",
    "#stride와 padding의 매개변수의 기본값은 풀링의크기와, valid로 지정된다. 거의 바뀌지 않는다.\n",
    "keras.layers.MaxPooling2D(2, strides=2, padding='valid')"
   ]
  },
  {
   "cell_type": "code",
   "execution_count": 8,
   "metadata": {},
   "outputs": [
    {
     "data": {
      "text/plain": [
       "<tensorflow.python.keras.layers.pooling.AveragePooling2D at 0x2822e9a12e0>"
      ]
     },
     "execution_count": 8,
     "metadata": {},
     "output_type": "execute_result"
    }
   ],
   "source": [
    "#AveragePooling\n",
    "keras.layers.AveragePooling2D(2, strides=2, padding='valid')"
   ]
  },
  {
   "cell_type": "code",
   "execution_count": null,
   "metadata": {},
   "outputs": [],
   "source": []
  }
 ],
 "metadata": {
  "kernelspec": {
   "display_name": "Python 3",
   "language": "python",
   "name": "python3"
  },
  "language_info": {
   "codemirror_mode": {
    "name": "ipython",
    "version": 3
   },
   "file_extension": ".py",
   "mimetype": "text/x-python",
   "name": "python",
   "nbconvert_exporter": "python",
   "pygments_lexer": "ipython3",
   "version": "3.8.5"
  }
 },
 "nbformat": 4,
 "nbformat_minor": 4
}
