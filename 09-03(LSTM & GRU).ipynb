{
 "cells": [
  {
   "cell_type": "markdown",
   "metadata": {},
   "source": [
    "## LSTM 신경망 훈련하기."
   ]
  },
  {
   "cell_type": "code",
   "execution_count": 20,
   "metadata": {},
   "outputs": [],
   "source": [
    "#IMDB data 불러오기, train,val set 나누기.\n",
    "from tensorflow.keras.datasets import imdb\n",
    "from sklearn.model_selection import train_test_split\n",
    "(train_input, train_target), (test_input, test_target) = imdb.load_data(num_words=500)\n",
    "\n",
    "train_input, val_input, train_target, val_target = train_test_split(train_input, train_target, test_size=0.2, random_state=42)"
   ]
  },
  {
   "cell_type": "code",
   "execution_count": 21,
   "metadata": {},
   "outputs": [],
   "source": [
    "#keras의 pad_sequences()함수로 각 샘플의 길이를 100으로 맞춰주고, 짧으면 패딩을 추가, 길면 삭제한다.\n",
    "from tensorflow.keras.preprocessing.sequence import pad_sequences\n",
    "train_seq = pad_sequences(train_input, maxlen=100)\n",
    "val_seq = pad_sequences(val_input, maxlen=100)"
   ]
  },
  {
   "cell_type": "code",
   "execution_count": 23,
   "metadata": {},
   "outputs": [],
   "source": [
    "#LSTM을 사용한 순환층 만들기.\n",
    "from tensorflow import keras\n",
    "model = keras.Sequential()\n",
    "model.add(keras.layers.Embedding(500, 16, input_length = 100))\n",
    "model.add(keras.layers.LSTM(8))\n",
    "model.add(keras.layers.Dense(1, activation='sigmoid'))"
   ]
  },
  {
   "cell_type": "code",
   "execution_count": 24,
   "metadata": {},
   "outputs": [
    {
     "name": "stdout",
     "output_type": "stream",
     "text": [
      "Model: \"sequential_2\"\n",
      "_________________________________________________________________\n",
      "Layer (type)                 Output Shape              Param #   \n",
      "=================================================================\n",
      "embedding_2 (Embedding)      (None, 100, 16)           8000      \n",
      "_________________________________________________________________\n",
      "lstm_2 (LSTM)                (None, 8)                 800       \n",
      "_________________________________________________________________\n",
      "dense_2 (Dense)              (None, 1)                 9         \n",
      "=================================================================\n",
      "Total params: 8,809\n",
      "Trainable params: 8,809\n",
      "Non-trainable params: 0\n",
      "_________________________________________________________________\n"
     ]
    }
   ],
   "source": [
    "model.summary()"
   ]
  },
  {
   "cell_type": "code",
   "execution_count": 25,
   "metadata": {},
   "outputs": [
    {
     "name": "stdout",
     "output_type": "stream",
     "text": [
      "Epoch 1/100\n",
      "313/313 [==============================] - 8s 19ms/step - loss: 0.6926 - accuracy: 0.5218 - val_loss: 0.6908 - val_accuracy: 0.5990\n",
      "Epoch 2/100\n",
      "313/313 [==============================] - 7s 22ms/step - loss: 0.6899 - accuracy: 0.6131 - val_loss: 0.6856 - val_accuracy: 0.6460\n",
      "Epoch 3/100\n",
      "313/313 [==============================] - 6s 20ms/step - loss: 0.6822 - accuracy: 0.6544 - val_loss: 0.6656 - val_accuracy: 0.6766\n",
      "Epoch 4/100\n",
      "313/313 [==============================] - 8s 26ms/step - loss: 0.6509 - accuracy: 0.6920 - val_loss: 0.6066 - val_accuracy: 0.7362\n",
      "Epoch 5/100\n",
      "313/313 [==============================] - 7s 23ms/step - loss: 0.5977 - accuracy: 0.7351 - val_loss: 0.5791 - val_accuracy: 0.7430\n",
      "Epoch 6/100\n",
      "313/313 [==============================] - 9s 28ms/step - loss: 0.5726 - accuracy: 0.7489 - val_loss: 0.5614 - val_accuracy: 0.7512\n",
      "Epoch 7/100\n",
      "313/313 [==============================] - 9s 27ms/step - loss: 0.5546 - accuracy: 0.7543 - val_loss: 0.5482 - val_accuracy: 0.7538\n",
      "Epoch 8/100\n",
      "313/313 [==============================] - 11s 35ms/step - loss: 0.5378 - accuracy: 0.7622 - val_loss: 0.5308 - val_accuracy: 0.7616\n",
      "Epoch 9/100\n",
      "313/313 [==============================] - 10s 31ms/step - loss: 0.5182 - accuracy: 0.7735 - val_loss: 0.5144 - val_accuracy: 0.7706\n",
      "Epoch 10/100\n",
      "313/313 [==============================] - 9s 30ms/step - loss: 0.5027 - accuracy: 0.7796 - val_loss: 0.5008 - val_accuracy: 0.7728\n",
      "Epoch 11/100\n",
      "313/313 [==============================] - 11s 37ms/step - loss: 0.4886 - accuracy: 0.7846 - val_loss: 0.4879 - val_accuracy: 0.7794\n",
      "Epoch 12/100\n",
      "313/313 [==============================] - 14s 44ms/step - loss: 0.4716 - accuracy: 0.7955 - val_loss: 0.4775 - val_accuracy: 0.7808\n",
      "Epoch 13/100\n",
      "313/313 [==============================] - 9s 29ms/step - loss: 0.4591 - accuracy: 0.8017 - val_loss: 0.4677 - val_accuracy: 0.7890\n",
      "Epoch 14/100\n",
      "313/313 [==============================] - 11s 35ms/step - loss: 0.4440 - accuracy: 0.8117 - val_loss: 0.4602 - val_accuracy: 0.7920\n",
      "Epoch 15/100\n",
      "313/313 [==============================] - 16s 50ms/step - loss: 0.4414 - accuracy: 0.8094 - val_loss: 0.4545 - val_accuracy: 0.7958\n",
      "Epoch 16/100\n",
      "313/313 [==============================] - 13s 43ms/step - loss: 0.4441 - accuracy: 0.8039 - val_loss: 0.4509 - val_accuracy: 0.7928\n",
      "Epoch 17/100\n",
      "313/313 [==============================] - 12s 39ms/step - loss: 0.4313 - accuracy: 0.8142 - val_loss: 0.4453 - val_accuracy: 0.7986\n",
      "Epoch 18/100\n",
      "313/313 [==============================] - 13s 42ms/step - loss: 0.4232 - accuracy: 0.8156 - val_loss: 0.4430 - val_accuracy: 0.7988\n",
      "Epoch 19/100\n",
      "313/313 [==============================] - 12s 38ms/step - loss: 0.4274 - accuracy: 0.8109 - val_loss: 0.4403 - val_accuracy: 0.7972\n",
      "Epoch 20/100\n",
      "313/313 [==============================] - 13s 43ms/step - loss: 0.4194 - accuracy: 0.8147 - val_loss: 0.4408 - val_accuracy: 0.7994\n",
      "Epoch 21/100\n",
      "313/313 [==============================] - 13s 42ms/step - loss: 0.4143 - accuracy: 0.8214 - val_loss: 0.4365 - val_accuracy: 0.7984\n",
      "Epoch 22/100\n",
      "313/313 [==============================] - 12s 38ms/step - loss: 0.4177 - accuracy: 0.8159 - val_loss: 0.4351 - val_accuracy: 0.7970\n",
      "Epoch 23/100\n",
      "313/313 [==============================] - 12s 39ms/step - loss: 0.4167 - accuracy: 0.8160 - val_loss: 0.4355 - val_accuracy: 0.7978\n",
      "Epoch 24/100\n",
      "313/313 [==============================] - 12s 38ms/step - loss: 0.4130 - accuracy: 0.8210 - val_loss: 0.4341 - val_accuracy: 0.8000\n",
      "Epoch 25/100\n",
      "313/313 [==============================] - 13s 41ms/step - loss: 0.4159 - accuracy: 0.8143 - val_loss: 0.4328 - val_accuracy: 0.7994\n",
      "Epoch 26/100\n",
      "313/313 [==============================] - 12s 38ms/step - loss: 0.4153 - accuracy: 0.8140 - val_loss: 0.4313 - val_accuracy: 0.8010\n",
      "Epoch 27/100\n",
      "313/313 [==============================] - 12s 38ms/step - loss: 0.4201 - accuracy: 0.8109 - val_loss: 0.4345 - val_accuracy: 0.8010\n",
      "Epoch 28/100\n",
      "313/313 [==============================] - 12s 38ms/step - loss: 0.4087 - accuracy: 0.8162 - val_loss: 0.4321 - val_accuracy: 0.7992\n",
      "Epoch 29/100\n",
      "313/313 [==============================] - 12s 38ms/step - loss: 0.4145 - accuracy: 0.8121 - val_loss: 0.4311 - val_accuracy: 0.8008\n",
      "Epoch 30/100\n",
      "313/313 [==============================] - 12s 38ms/step - loss: 0.4071 - accuracy: 0.8163 - val_loss: 0.4331 - val_accuracy: 0.7990\n",
      "Epoch 31/100\n",
      "313/313 [==============================] - 12s 38ms/step - loss: 0.4170 - accuracy: 0.8106 - val_loss: 0.4320 - val_accuracy: 0.8004\n",
      "Epoch 32/100\n",
      "313/313 [==============================] - 12s 39ms/step - loss: 0.4173 - accuracy: 0.8098 - val_loss: 0.4338 - val_accuracy: 0.7976\n"
     ]
    }
   ],
   "source": [
    "#모델 컴파일, train\n",
    "#배치크기는 64개, epoch횟수는100회\n",
    "rmsprop = keras.optimizers.RMSprop(learning_rate = 1e-4)\n",
    "model.compile(optimizer=rmsprop, loss='binary_crossentropy', metrics=['accuracy'])\n",
    "checkpoint_cb = keras.callbacks.ModelCheckpoint('best-lstm-model.h5')\n",
    "early_stopping_cb = keras.callbacks.EarlyStopping(patience=3, restore_best_weights=True)\n",
    "\n",
    "history = model.fit(train_seq, train_target, epochs=100, batch_size=64, validation_data = (val_seq, val_target),\n",
    "                   callbacks = [checkpoint_cb, early_stopping_cb])"
   ]
  },
  {
   "cell_type": "code",
   "execution_count": 27,
   "metadata": {},
   "outputs": [
    {
     "data": {
      "image/png": "[encoded data removed]",
      "text/plain": [
       "<Figure size 432x288 with 1 Axes>"
      ]
     },
     "metadata": {
      "needs_background": "light"
     },
     "output_type": "display_data"
    }
   ],
   "source": [
    "#손실그래프 그리기.\n",
    "import matplotlib.pyplot as plt\n",
    "plt.plot(history.history['loss'])\n",
    "plt.plot(history.history['val_loss'])\n",
    "plt.xlabel('epoch')\n",
    "plt.ylabel('loss')\n",
    "plt.legend(['train','val'])\n",
    "plt.show()"
   ]
  },
  {
   "cell_type": "code",
   "execution_count": 28,
   "metadata": {},
   "outputs": [],
   "source": [
    "#순환층에 Dropout 적용하기.(과대적합 막기)\n",
    "#순환층은 자체적으로 dropout기능을 제공한다.(dropout클래스를 사용하지 않아도 됨)\n",
    "#dropout 매개변수는 셀의 입력에 dropout을 적용하고, recurrent_dropout은 순환되는 은닉상태에 dropout을 적용한다.\n",
    "#recurrent_dropout은 GPU를 사용하지 못한다.\n",
    "\n",
    "#30%의 dropout을 적용하기.\n",
    "model2 = keras.Sequential()\n",
    "model2.add(keras.layers.Embedding(500, 16, input_length = 100))\n",
    "model2.add(keras.layers.LSTM(8, dropout=0.3))\n",
    "model2.add(keras.layers.Dense(1, activation='sigmoid'))"
   ]
  },
  {
   "cell_type": "code",
   "execution_count": 29,
   "metadata": {},
   "outputs": [
    {
     "name": "stdout",
     "output_type": "stream",
     "text": [
      "Epoch 1/100\n",
      "313/313 [==============================] - 9s 25ms/step - loss: 0.6924 - accuracy: 0.5224 - val_loss: 0.6894 - val_accuracy: 0.5970\n",
      "Epoch 2/100\n",
      "313/313 [==============================] - 8s 27ms/step - loss: 0.6876 - accuracy: 0.6065 - val_loss: 0.6806 - val_accuracy: 0.6456\n",
      "Epoch 3/100\n",
      "313/313 [==============================] - 9s 27ms/step - loss: 0.6745 - accuracy: 0.6600 - val_loss: 0.6438 - val_accuracy: 0.7048\n",
      "Epoch 4/100\n",
      "313/313 [==============================] - 9s 30ms/step - loss: 0.6171 - accuracy: 0.7091 - val_loss: 0.5741 - val_accuracy: 0.7158\n",
      "Epoch 5/100\n",
      "313/313 [==============================] - 12s 39ms/step - loss: 0.5673 - accuracy: 0.7225 - val_loss: 0.5514 - val_accuracy: 0.7416\n",
      "Epoch 6/100\n",
      "313/313 [==============================] - 7s 24ms/step - loss: 0.5447 - accuracy: 0.7495 - val_loss: 0.5355 - val_accuracy: 0.7492\n",
      "Epoch 7/100\n",
      "313/313 [==============================] - 12s 38ms/step - loss: 0.5289 - accuracy: 0.7590 - val_loss: 0.5262 - val_accuracy: 0.7538\n",
      "Epoch 8/100\n",
      "313/313 [==============================] - 11s 35ms/step - loss: 0.5160 - accuracy: 0.7677 - val_loss: 0.5093 - val_accuracy: 0.7718\n",
      "Epoch 9/100\n",
      "313/313 [==============================] - 10s 32ms/step - loss: 0.5023 - accuracy: 0.7767 - val_loss: 0.4988 - val_accuracy: 0.7762\n",
      "Epoch 10/100\n",
      "313/313 [==============================] - 11s 37ms/step - loss: 0.4957 - accuracy: 0.7764 - val_loss: 0.4897 - val_accuracy: 0.7794\n",
      "Epoch 11/100\n",
      "313/313 [==============================] - 12s 38ms/step - loss: 0.4830 - accuracy: 0.7836 - val_loss: 0.4822 - val_accuracy: 0.7776\n",
      "Epoch 12/100\n",
      "313/313 [==============================] - 11s 37ms/step - loss: 0.4727 - accuracy: 0.7885 - val_loss: 0.4742 - val_accuracy: 0.7860\n",
      "Epoch 13/100\n",
      "313/313 [==============================] - 12s 37ms/step - loss: 0.4662 - accuracy: 0.7935 - val_loss: 0.4672 - val_accuracy: 0.7888\n",
      "Epoch 14/100\n",
      "313/313 [==============================] - 11s 36ms/step - loss: 0.4635 - accuracy: 0.7896 - val_loss: 0.4614 - val_accuracy: 0.7882\n",
      "Epoch 15/100\n",
      "313/313 [==============================] - 11s 36ms/step - loss: 0.4529 - accuracy: 0.7968 - val_loss: 0.4556 - val_accuracy: 0.7940\n",
      "Epoch 16/100\n",
      "313/313 [==============================] - 12s 37ms/step - loss: 0.4451 - accuracy: 0.7990 - val_loss: 0.4580 - val_accuracy: 0.7912\n",
      "Epoch 17/100\n",
      "313/313 [==============================] - 11s 37ms/step - loss: 0.4419 - accuracy: 0.8030 - val_loss: 0.4483 - val_accuracy: 0.7948\n",
      "Epoch 18/100\n",
      "313/313 [==============================] - 12s 38ms/step - loss: 0.4341 - accuracy: 0.8049 - val_loss: 0.4445 - val_accuracy: 0.7984\n",
      "Epoch 19/100\n",
      "313/313 [==============================] - 12s 38ms/step - loss: 0.4336 - accuracy: 0.8038 - val_loss: 0.4434 - val_accuracy: 0.7972\n",
      "Epoch 20/100\n",
      "313/313 [==============================] - 13s 43ms/step - loss: 0.4293 - accuracy: 0.8100 - val_loss: 0.4399 - val_accuracy: 0.7980\n",
      "Epoch 21/100\n",
      "313/313 [==============================] - 12s 39ms/step - loss: 0.4303 - accuracy: 0.8068 - val_loss: 0.4383 - val_accuracy: 0.7986\n",
      "Epoch 22/100\n",
      "313/313 [==============================] - 12s 40ms/step - loss: 0.4224 - accuracy: 0.8114 - val_loss: 0.4373 - val_accuracy: 0.7998\n",
      "Epoch 23/100\n",
      "313/313 [==============================] - 12s 40ms/step - loss: 0.4212 - accuracy: 0.8086 - val_loss: 0.4397 - val_accuracy: 0.7990\n",
      "Epoch 24/100\n",
      "313/313 [==============================] - 13s 43ms/step - loss: 0.4228 - accuracy: 0.8093 - val_loss: 0.4368 - val_accuracy: 0.7992\n",
      "Epoch 25/100\n",
      "313/313 [==============================] - 13s 40ms/step - loss: 0.4194 - accuracy: 0.8104 - val_loss: 0.4353 - val_accuracy: 0.7962\n",
      "Epoch 26/100\n",
      "313/313 [==============================] - 12s 37ms/step - loss: 0.4252 - accuracy: 0.8054 - val_loss: 0.4336 - val_accuracy: 0.8012\n",
      "Epoch 27/100\n",
      "313/313 [==============================] - 12s 37ms/step - loss: 0.4191 - accuracy: 0.8098 - val_loss: 0.4338 - val_accuracy: 0.7988\n",
      "Epoch 28/100\n",
      "313/313 [==============================] - 12s 38ms/step - loss: 0.4164 - accuracy: 0.8133 - val_loss: 0.4391 - val_accuracy: 0.7958\n",
      "Epoch 29/100\n",
      "313/313 [==============================] - 11s 37ms/step - loss: 0.4151 - accuracy: 0.8114 - val_loss: 0.4326 - val_accuracy: 0.7986\n",
      "Epoch 30/100\n",
      "313/313 [==============================] - 12s 39ms/step - loss: 0.4231 - accuracy: 0.8087 - val_loss: 0.4326 - val_accuracy: 0.7990\n",
      "Epoch 31/100\n",
      "313/313 [==============================] - 12s 37ms/step - loss: 0.4155 - accuracy: 0.8100 - val_loss: 0.4333 - val_accuracy: 0.7994\n",
      "Epoch 32/100\n",
      "313/313 [==============================] - 11s 36ms/step - loss: 0.4201 - accuracy: 0.8065 - val_loss: 0.4327 - val_accuracy: 0.7968\n"
     ]
    }
   ],
   "source": [
    "rmsprop = keras.optimizers.RMSprop(learning_rate = 1e-4)\n",
    "model2.compile(optimizer=rmsprop, loss='binary_crossentropy', metrics=['accuracy'])\n",
    "checkpoint_cb = keras.callbacks.ModelCheckpoint('best-lstm-model.h5')\n",
    "early_stopping_cb = keras.callbacks.EarlyStopping(patience=3, restore_best_weights=True)\n",
    "\n",
    "history = model2.fit(train_seq, train_target, epochs=100, batch_size=64, validation_data = (val_seq, val_target),\n",
    "                   callbacks = [checkpoint_cb, early_stopping_cb])"
   ]
  },
  {
   "cell_type": "code",
   "execution_count": 30,
   "metadata": {},
   "outputs": [
    {
     "data": {
      "image/png": "[encoded data removed]",
      "text/plain": [
       "<Figure size 432x288 with 1 Axes>"
      ]
     },
     "metadata": {
      "needs_background": "light"
     },
     "output_type": "display_data"
    }
   ],
   "source": [
    "#손실그래프 그리기.\n",
    "import matplotlib.pyplot as plt\n",
    "plt.plot(history.history['loss'])\n",
    "plt.plot(history.history['val_loss'])\n",
    "plt.xlabel('epoch')\n",
    "plt.ylabel('loss')\n",
    "plt.legend(['train','val'])\n",
    "plt.show()"
   ]
  },
  {
   "cell_type": "markdown",
   "metadata": {},
   "source": [
    "### 2개의 순환층 연결하기.\n",
    "- 한개의 순환층만 사용할때는 출력이 마지막 타임스텝의 은닉상태를 출력한다.하지만\n",
    "- 하지만 두개의 순환층을 연결해 사용할 때에는 처음 순환층은 모든 타임스텝의 은닉상태를 출력하고,   \n",
    "- 두번째 순환층은 마지막 타임스텝의 은닉상태를 출력한다.\n",
    "- 모든 타임스텝의 은닉상태를 출력하기 위해서는 return_sequences 매개변수를 Trie로 지정해 주어야 한다."
   ]
  },
  {
   "cell_type": "code",
   "execution_count": 32,
   "metadata": {},
   "outputs": [],
   "source": [
    "#2개의 순환층 연결.\n",
    "#return_sequences=True 로 지정하여 순환층의 출력을 모든 타임스텝의 은닉상태를 출력하게 한다.\n",
    "model3 = keras.Sequential()\n",
    "model3.add(keras.layers.Embedding(500, 16, input_length = 100))\n",
    "model3.add(keras.layers.LSTM(8, dropout=0.3, return_sequences=True))\n",
    "model3.add(keras.layers.LSTM(8, dropout=0.3))\n",
    "model3.add(keras.layers.Dense(1, activation='sigmoid'))"
   ]
  },
  {
   "cell_type": "code",
   "execution_count": 35,
   "metadata": {},
   "outputs": [
    {
     "name": "stdout",
     "output_type": "stream",
     "text": [
      "Model: \"sequential_5\"\n",
      "_________________________________________________________________\n",
      "Layer (type)                 Output Shape              Param #   \n",
      "=================================================================\n",
      "embedding_5 (Embedding)      (None, 100, 16)           8000      \n",
      "_________________________________________________________________\n",
      "lstm_4 (LSTM)                (None, 100, 8)            800       \n",
      "_________________________________________________________________\n",
      "lstm_5 (LSTM)                (None, 8)                 544       \n",
      "_________________________________________________________________\n",
      "dense_4 (Dense)              (None, 1)                 9         \n",
      "=================================================================\n",
      "Total params: 9,353\n",
      "Trainable params: 9,353\n",
      "Non-trainable params: 0\n",
      "_________________________________________________________________\n"
     ]
    }
   ],
   "source": [
    "model3.summary()"
   ]
  },
  {
   "cell_type": "code",
   "execution_count": 34,
   "metadata": {},
   "outputs": [
    {
     "name": "stdout",
     "output_type": "stream",
     "text": [
      "Epoch 1/100\n",
      "313/313 [==============================] - 18s 47ms/step - loss: 0.6927 - accuracy: 0.5241 - val_loss: 0.6910 - val_accuracy: 0.6098\n",
      "Epoch 2/100\n",
      "313/313 [==============================] - 18s 57ms/step - loss: 0.6899 - accuracy: 0.5977 - val_loss: 0.6836 - val_accuracy: 0.6060\n",
      "Epoch 3/100\n",
      "313/313 [==============================] - 17s 55ms/step - loss: 0.6755 - accuracy: 0.6266 - val_loss: 0.6376 - val_accuracy: 0.6550\n",
      "Epoch 4/100\n",
      "313/313 [==============================] - 16s 52ms/step - loss: 0.6183 - accuracy: 0.6897 - val_loss: 0.5777 - val_accuracy: 0.7276\n",
      "Epoch 5/100\n",
      "313/313 [==============================] - 21s 67ms/step - loss: 0.5755 - accuracy: 0.7196 - val_loss: 0.5514 - val_accuracy: 0.7388\n",
      "Epoch 6/100\n",
      "313/313 [==============================] - 27s 87ms/step - loss: 0.5436 - accuracy: 0.7439 - val_loss: 0.5302 - val_accuracy: 0.7522\n",
      "Epoch 7/100\n",
      "313/313 [==============================] - 28s 90ms/step - loss: 0.5240 - accuracy: 0.7544 - val_loss: 0.5143 - val_accuracy: 0.7578\n",
      "Epoch 8/100\n",
      "313/313 [==============================] - 31s 98ms/step - loss: 0.5129 - accuracy: 0.7571 - val_loss: 0.4986 - val_accuracy: 0.7662\n",
      "Epoch 9/100\n",
      "313/313 [==============================] - 40s 128ms/step - loss: 0.4939 - accuracy: 0.7693 - val_loss: 0.4881 - val_accuracy: 0.7710\n",
      "Epoch 10/100\n",
      "313/313 [==============================] - 34s 109ms/step - loss: 0.4850 - accuracy: 0.7787 - val_loss: 0.4807 - val_accuracy: 0.7730\n",
      "Epoch 11/100\n",
      "313/313 [==============================] - 38s 122ms/step - loss: 0.4809 - accuracy: 0.7756 - val_loss: 0.4720 - val_accuracy: 0.7804\n",
      "Epoch 12/100\n",
      "313/313 [==============================] - 29s 93ms/step - loss: 0.4760 - accuracy: 0.7750 - val_loss: 0.4710 - val_accuracy: 0.7768\n",
      "Epoch 13/100\n",
      "313/313 [==============================] - 25s 79ms/step - loss: 0.4655 - accuracy: 0.7846 - val_loss: 0.4643 - val_accuracy: 0.7810\n",
      "Epoch 14/100\n",
      "313/313 [==============================] - 19s 60ms/step - loss: 0.4606 - accuracy: 0.7888 - val_loss: 0.4666 - val_accuracy: 0.7766\n",
      "Epoch 15/100\n",
      "313/313 [==============================] - 19s 61ms/step - loss: 0.4609 - accuracy: 0.7873 - val_loss: 0.4567 - val_accuracy: 0.7876\n",
      "Epoch 16/100\n",
      "313/313 [==============================] - 19s 61ms/step - loss: 0.4588 - accuracy: 0.7891 - val_loss: 0.4541 - val_accuracy: 0.7882\n",
      "Epoch 17/100\n",
      "313/313 [==============================] - 19s 61ms/step - loss: 0.4515 - accuracy: 0.7933 - val_loss: 0.4515 - val_accuracy: 0.7876\n",
      "Epoch 18/100\n",
      "313/313 [==============================] - 19s 60ms/step - loss: 0.4485 - accuracy: 0.7924 - val_loss: 0.4525 - val_accuracy: 0.7908\n",
      "Epoch 19/100\n",
      "313/313 [==============================] - 19s 60ms/step - loss: 0.4402 - accuracy: 0.7992 - val_loss: 0.4481 - val_accuracy: 0.7864\n",
      "Epoch 20/100\n",
      "313/313 [==============================] - 19s 60ms/step - loss: 0.4399 - accuracy: 0.8004 - val_loss: 0.4462 - val_accuracy: 0.7884\n",
      "Epoch 21/100\n",
      "313/313 [==============================] - 19s 60ms/step - loss: 0.4460 - accuracy: 0.7965 - val_loss: 0.4471 - val_accuracy: 0.7896\n",
      "Epoch 22/100\n",
      "313/313 [==============================] - 19s 60ms/step - loss: 0.4351 - accuracy: 0.8004 - val_loss: 0.4421 - val_accuracy: 0.7938\n",
      "Epoch 23/100\n",
      "313/313 [==============================] - 19s 61ms/step - loss: 0.4329 - accuracy: 0.8015 - val_loss: 0.4414 - val_accuracy: 0.7946\n",
      "Epoch 24/100\n",
      "313/313 [==============================] - 19s 60ms/step - loss: 0.4338 - accuracy: 0.8019 - val_loss: 0.4402 - val_accuracy: 0.7942\n",
      "Epoch 25/100\n",
      "313/313 [==============================] - 23s 75ms/step - loss: 0.4328 - accuracy: 0.8050 - val_loss: 0.4391 - val_accuracy: 0.7942\n",
      "Epoch 26/100\n",
      "313/313 [==============================] - 21s 68ms/step - loss: 0.4333 - accuracy: 0.8020 - val_loss: 0.4386 - val_accuracy: 0.7984\n",
      "Epoch 27/100\n",
      "313/313 [==============================] - 19s 61ms/step - loss: 0.4330 - accuracy: 0.8039 - val_loss: 0.4393 - val_accuracy: 0.7966\n",
      "Epoch 28/100\n",
      "313/313 [==============================] - 19s 60ms/step - loss: 0.4273 - accuracy: 0.8056 - val_loss: 0.4371 - val_accuracy: 0.7966\n",
      "Epoch 29/100\n",
      "313/313 [==============================] - 21s 68ms/step - loss: 0.4329 - accuracy: 0.8013 - val_loss: 0.4367 - val_accuracy: 0.7984\n",
      "Epoch 30/100\n",
      "313/313 [==============================] - 19s 61ms/step - loss: 0.4277 - accuracy: 0.8058 - val_loss: 0.4363 - val_accuracy: 0.7928\n",
      "Epoch 31/100\n",
      "313/313 [==============================] - 19s 60ms/step - loss: 0.4187 - accuracy: 0.8118 - val_loss: 0.4370 - val_accuracy: 0.7932\n",
      "Epoch 32/100\n",
      "313/313 [==============================] - 19s 60ms/step - loss: 0.4234 - accuracy: 0.8057 - val_loss: 0.4351 - val_accuracy: 0.7930\n",
      "Epoch 33/100\n",
      "313/313 [==============================] - 19s 60ms/step - loss: 0.4288 - accuracy: 0.8030 - val_loss: 0.4351 - val_accuracy: 0.7966\n",
      "Epoch 34/100\n",
      "313/313 [==============================] - 19s 60ms/step - loss: 0.4258 - accuracy: 0.8023 - val_loss: 0.4371 - val_accuracy: 0.7928\n",
      "Epoch 35/100\n",
      "313/313 [==============================] - 19s 61ms/step - loss: 0.4241 - accuracy: 0.8053 - val_loss: 0.4345 - val_accuracy: 0.7926\n",
      "Epoch 36/100\n",
      "313/313 [==============================] - 19s 61ms/step - loss: 0.4172 - accuracy: 0.8093 - val_loss: 0.4337 - val_accuracy: 0.7952\n",
      "Epoch 37/100\n",
      "313/313 [==============================] - 19s 60ms/step - loss: 0.4208 - accuracy: 0.8061 - val_loss: 0.4337 - val_accuracy: 0.7982\n",
      "Epoch 38/100\n",
      "313/313 [==============================] - 19s 61ms/step - loss: 0.4215 - accuracy: 0.8084 - val_loss: 0.4332 - val_accuracy: 0.7946\n",
      "Epoch 39/100\n",
      "313/313 [==============================] - 19s 60ms/step - loss: 0.4247 - accuracy: 0.8063 - val_loss: 0.4364 - val_accuracy: 0.7936\n",
      "Epoch 40/100\n",
      "313/313 [==============================] - 19s 59ms/step - loss: 0.4278 - accuracy: 0.8035 - val_loss: 0.4342 - val_accuracy: 0.7946\n",
      "Epoch 41/100\n",
      "313/313 [==============================] - 19s 60ms/step - loss: 0.4196 - accuracy: 0.8066 - val_loss: 0.4336 - val_accuracy: 0.7950\n"
     ]
    }
   ],
   "source": [
    "rmsprop = keras.optimizers.RMSprop(learning_rate = 1e-4)\n",
    "model3.compile(optimizer=rmsprop, loss='binary_crossentropy', metrics=['accuracy'])\n",
    "checkpoint_cb = keras.callbacks.ModelCheckpoint('best-2rnn-model.h5')\n",
    "early_stopping_cb = keras.callbacks.EarlyStopping(patience=3, restore_best_weights=True)\n",
    "\n",
    "history = model3.fit(train_seq, train_target, epochs=100, batch_size=64, validation_data = (val_seq, val_target),\n",
    "                   callbacks = [checkpoint_cb, early_stopping_cb])"
   ]
  },
  {
   "cell_type": "code",
   "execution_count": 36,
   "metadata": {},
   "outputs": [
    {
     "data": {
      "image/png": "[encoded data removed]",
      "text/plain": [
       "<Figure size 432x288 with 1 Axes>"
      ]
     },
     "metadata": {
      "needs_background": "light"
     },
     "output_type": "display_data"
    }
   ],
   "source": [
    "#손실그래프 그리기.\n",
    "import matplotlib.pyplot as plt\n",
    "plt.plot(history.history['loss'])\n",
    "plt.plot(history.history['val_loss'])\n",
    "plt.xlabel('epoch')\n",
    "plt.ylabel('loss')\n",
    "plt.legend(['train','val'])\n",
    "plt.show()"
   ]
  },
  {
   "cell_type": "markdown",
   "metadata": {},
   "source": [
    "## GRU셀을 사용한 순환신경망"
   ]
  },
  {
   "cell_type": "code",
   "execution_count": 38,
   "metadata": {},
   "outputs": [],
   "source": [
    "#GRU 신경망 훈련하기.model3 = keras.Sequential()\n",
    "model4 = keras.Sequential()\n",
    "model4.add(keras.layers.Embedding(500, 16, input_length = 100))\n",
    "model4.add(keras.layers.GRU(8))\n",
    "model4.add(keras.layers.Dense(1, activation='sigmoid'))"
   ]
  },
  {
   "cell_type": "code",
   "execution_count": 39,
   "metadata": {},
   "outputs": [
    {
     "name": "stdout",
     "output_type": "stream",
     "text": [
      "Model: \"sequential_6\"\n",
      "_________________________________________________________________\n",
      "Layer (type)                 Output Shape              Param #   \n",
      "=================================================================\n",
      "embedding_6 (Embedding)      (None, 100, 16)           8000      \n",
      "_________________________________________________________________\n",
      "gru (GRU)                    (None, 8)                 624       \n",
      "_________________________________________________________________\n",
      "dense_5 (Dense)              (None, 1)                 9         \n",
      "=================================================================\n",
      "Total params: 8,633\n",
      "Trainable params: 8,633\n",
      "Non-trainable params: 0\n",
      "_________________________________________________________________\n"
     ]
    }
   ],
   "source": [
    "model4.summary()"
   ]
  },
  {
   "cell_type": "code",
   "execution_count": 40,
   "metadata": {},
   "outputs": [
    {
     "name": "stdout",
     "output_type": "stream",
     "text": [
      "Epoch 1/100\n",
      "313/313 [==============================] - 11s 29ms/step - loss: 0.6927 - accuracy: 0.5241 - val_loss: 0.6915 - val_accuracy: 0.5398\n",
      "Epoch 2/100\n",
      "313/313 [==============================] - 9s 29ms/step - loss: 0.6908 - accuracy: 0.5645 - val_loss: 0.6889 - val_accuracy: 0.5642\n",
      "Epoch 3/100\n",
      "313/313 [==============================] - 9s 28ms/step - loss: 0.6872 - accuracy: 0.5907 - val_loss: 0.6839 - val_accuracy: 0.6012\n",
      "Epoch 4/100\n",
      "313/313 [==============================] - 9s 29ms/step - loss: 0.6820 - accuracy: 0.6074 - val_loss: 0.6751 - val_accuracy: 0.6182\n",
      "Epoch 5/100\n",
      "313/313 [==============================] - 9s 29ms/step - loss: 0.6702 - accuracy: 0.6334 - val_loss: 0.6593 - val_accuracy: 0.6440\n",
      "Epoch 6/100\n",
      "313/313 [==============================] - 9s 29ms/step - loss: 0.6507 - accuracy: 0.6467 - val_loss: 0.6231 - val_accuracy: 0.6762\n",
      "Epoch 7/100\n",
      "313/313 [==============================] - 9s 30ms/step - loss: 0.6007 - accuracy: 0.6907 - val_loss: 0.5602 - val_accuracy: 0.7270\n",
      "Epoch 8/100\n",
      "313/313 [==============================] - 9s 29ms/step - loss: 0.5447 - accuracy: 0.7371 - val_loss: 0.5381 - val_accuracy: 0.7426\n",
      "Epoch 9/100\n",
      "313/313 [==============================] - 9s 29ms/step - loss: 0.5206 - accuracy: 0.7531 - val_loss: 0.5226 - val_accuracy: 0.7534\n",
      "Epoch 10/100\n",
      "313/313 [==============================] - 10s 31ms/step - loss: 0.5083 - accuracy: 0.7627 - val_loss: 0.5099 - val_accuracy: 0.7628\n",
      "Epoch 11/100\n",
      "313/313 [==============================] - 17s 55ms/step - loss: 0.4971 - accuracy: 0.7660 - val_loss: 0.4981 - val_accuracy: 0.7662\n",
      "Epoch 12/100\n",
      "313/313 [==============================] - 12s 38ms/step - loss: 0.4841 - accuracy: 0.7780 - val_loss: 0.4896 - val_accuracy: 0.7698\n",
      "Epoch 13/100\n",
      "313/313 [==============================] - 12s 39ms/step - loss: 0.4763 - accuracy: 0.7784 - val_loss: 0.4834 - val_accuracy: 0.7780\n",
      "Epoch 14/100\n",
      "313/313 [==============================] - 14s 45ms/step - loss: 0.4583 - accuracy: 0.7904 - val_loss: 0.4785 - val_accuracy: 0.7842\n",
      "Epoch 15/100\n",
      "313/313 [==============================] - 12s 40ms/step - loss: 0.4704 - accuracy: 0.7813 - val_loss: 0.4726 - val_accuracy: 0.7756\n",
      "Epoch 16/100\n",
      "313/313 [==============================] - 21s 67ms/step - loss: 0.4567 - accuracy: 0.7919 - val_loss: 0.4713 - val_accuracy: 0.7748\n",
      "Epoch 17/100\n",
      "313/313 [==============================] - 21s 67ms/step - loss: 0.4499 - accuracy: 0.7952 - val_loss: 0.4644 - val_accuracy: 0.7828\n",
      "Epoch 18/100\n",
      "313/313 [==============================] - 14s 44ms/step - loss: 0.4435 - accuracy: 0.7983 - val_loss: 0.4618 - val_accuracy: 0.7830\n",
      "Epoch 19/100\n",
      "313/313 [==============================] - 13s 43ms/step - loss: 0.4396 - accuracy: 0.8014 - val_loss: 0.4590 - val_accuracy: 0.7852\n",
      "Epoch 20/100\n",
      "313/313 [==============================] - 13s 42ms/step - loss: 0.4407 - accuracy: 0.8027 - val_loss: 0.4574 - val_accuracy: 0.7870\n",
      "Epoch 21/100\n",
      "313/313 [==============================] - 14s 44ms/step - loss: 0.4391 - accuracy: 0.8009 - val_loss: 0.4559 - val_accuracy: 0.7846\n",
      "Epoch 22/100\n",
      "313/313 [==============================] - 18s 57ms/step - loss: 0.4338 - accuracy: 0.8066 - val_loss: 0.4673 - val_accuracy: 0.7892\n",
      "Epoch 23/100\n",
      "313/313 [==============================] - 14s 45ms/step - loss: 0.4335 - accuracy: 0.8060 - val_loss: 0.4563 - val_accuracy: 0.7902\n",
      "Epoch 24/100\n",
      "313/313 [==============================] - 14s 43ms/step - loss: 0.4361 - accuracy: 0.8024 - val_loss: 0.4566 - val_accuracy: 0.7902\n"
     ]
    }
   ],
   "source": [
    "rmsprop = keras.optimizers.RMSprop(learning_rate = 1e-4)\n",
    "model4.compile(optimizer=rmsprop, loss='binary_crossentropy', metrics=['accuracy'])\n",
    "checkpoint_cb = keras.callbacks.ModelCheckpoint('best-gru-model.h5')\n",
    "early_stopping_cb = keras.callbacks.EarlyStopping(patience=3, restore_best_weights=True)\n",
    "\n",
    "history = model4.fit(train_seq, train_target, epochs=100, batch_size=64, validation_data = (val_seq, val_target),\n",
    "                   callbacks = [checkpoint_cb, early_stopping_cb])"
   ]
  },
  {
   "cell_type": "code",
   "execution_count": 41,
   "metadata": {},
   "outputs": [
    {
     "data": {
      "image/png": "[encoded data removed]",
      "text/plain": [
       "<Figure size 432x288 with 1 Axes>"
      ]
     },
     "metadata": {
      "needs_background": "light"
     },
     "output_type": "display_data"
    }
   ],
   "source": [
    "#손실그래프 그리기.\n",
    "import matplotlib.pyplot as plt\n",
    "plt.plot(history.history['loss'])\n",
    "plt.plot(history.history['val_loss'])\n",
    "plt.xlabel('epoch')\n",
    "plt.ylabel('loss')\n",
    "plt.legend(['train','val'])\n",
    "plt.show()"
   ]
  },
  {
   "cell_type": "code",
   "execution_count": null,
   "metadata": {},
   "outputs": [],
   "source": []
  }
 ],
 "metadata": {
  "kernelspec": {
   "display_name": "Python 3",
   "language": "python",
   "name": "python3"
  },
  "language_info": {
   "codemirror_mode": {
    "name": "ipython",
    "version": 3
   },
   "file_extension": ".py",
   "mimetype": "text/x-python",
   "name": "python",
   "nbconvert_exporter": "python",
   "pygments_lexer": "ipython3",
   "version": "3.8.5"
  }
 },
 "nbformat": 4,
 "nbformat_minor": 4
}
